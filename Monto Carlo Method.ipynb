{
 "cells": [
  {
   "cell_type": "markdown",
   "id": "6fb1d178",
   "metadata": {},
   "source": [
    "# Calculate Area Using Monto Carlo Method"
   ]
  },
  {
   "cell_type": "markdown",
   "id": "2d0e3c77",
   "metadata": {},
   "source": [
    " "
   ]
  },
  {
   "cell_type": "code",
   "execution_count": 12,
   "id": "e09fd464",
   "metadata": {},
   "outputs": [],
   "source": [
    "import math as mat\n",
    "import random\n",
    "from numpy import exp,arange\n",
    "import matplotlib.pyplot as plt"
   ]
  },
  {
   "cell_type": "code",
   "execution_count": 3,
   "id": "069a5e21",
   "metadata": {},
   "outputs": [],
   "source": [
    "def function(x,y):\n",
    "    return (13*(x**2))+(7*(y**2))+(6*(mat.sqrt(3))*x*y)-16\n",
    "    "
   ]
  },
  {
   "cell_type": "code",
   "execution_count": 4,
   "id": "f0b02aee",
   "metadata": {},
   "outputs": [
    {
     "name": "stdout",
     "output_type": "stream",
     "text": [
      "Area will be\n",
      "3.295780778212629\n"
     ]
    }
   ],
   "source": [
    "count=0.0\n",
    "in_area=0.0\n",
    "while count<1000000:\n",
    "    x_coord=random.uniform(1,10)\n",
    "    y_coord=random.uniform(0,1/mat.e)\n",
    "    if y_coord<function(x_coord,y_coord):\n",
    "        in_area+=1\n",
    "    count+=1\n",
    "area_box=9/mat.e\n",
    "print(\"Area will be\")\n",
    "print((in_area/count)*area_box)"
   ]
  },
  {
   "cell_type": "code",
   "execution_count": 13,
   "id": "8689b58a",
   "metadata": {},
   "outputs": [
    {
     "data": {
      "text/plain": [
       "[<matplotlib.lines.Line2D at 0x76a447e7c0>]"
      ]
     },
     "execution_count": 13,
     "metadata": {},
     "output_type": "execute_result"
    },
    {
     "data": {
      "image/png": "[encoded data removed]",
      "text/plain": [
       "<Figure size 432x288 with 1 Axes>"
      ]
     },
     "metadata": {
      "needs_background": "light"
     },
     "output_type": "display_data"
    }
   ],
   "source": [
    "x = arange(-3.0,3.0,0.1)\n",
    "y = arange(-3.0,3.0,0.1)\n",
    "z=function(x,y)\n",
    "plt.plot(z)\n"
   ]
  }
 ],
 "metadata": {
  "kernelspec": {
   "display_name": "Python 3 (ipykernel)",
   "language": "python",
   "name": "python3"
  },
  "language_info": {
   "codemirror_mode": {
    "name": "ipython",
    "version": 3
   },
   "file_extension": ".py",
   "mimetype": "text/x-python",
   "name": "python",
   "nbconvert_exporter": "python",
   "pygments_lexer": "ipython3",
   "version": "3.10.7"
  }
 },
 "nbformat": 4,
 "nbformat_minor": 5
}
